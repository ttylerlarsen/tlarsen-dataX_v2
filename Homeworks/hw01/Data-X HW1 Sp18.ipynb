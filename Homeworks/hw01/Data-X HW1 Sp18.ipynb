{
 "cells": [
  {
   "cell_type": "markdown",
   "metadata": {},
   "source": [
    "# Homework 1"
   ]
  },
  {
   "cell_type": "markdown",
   "metadata": {},
   "source": [
    "In this homework, you will get a chance to do some exercises with Numpy, Pandas, and Matplotlib to show us your understanding with this libraries. \n",
    "\n",
    "If you have questions, Google! Additionally you can ask your peers questions on Piazza and/or go to Office Hours.\n",
    "\n",
    "This homework is due **Thursday Feb. 8th, 2018 at 11:59 PM**. Please upload your .ipynb to your private repo on Github. Additionally, submit a pdf on bCourses and in the comment section include a link to your private repo.\n",
    "\n",
    "This homework is long, please start early!"
   ]
  },
  {
   "cell_type": "code",
   "execution_count": 8,
   "metadata": {},
   "outputs": [],
   "source": [
    "import math\n",
    "import numpy as np\n",
    "import pandas as pd\n",
    "import matplotlib.pyplot as plt\n",
    "%matplotlib inline"
   ]
  },
  {
   "cell_type": "markdown",
   "metadata": {},
   "source": [
    "## NumPy Basics"
   ]
  },
  {
   "cell_type": "markdown",
   "metadata": {},
   "source": [
    "Create two numpy arrays (`a` and `b`). `a` should be all integers between 10-19 (inclusive), and `b` should be ten evenly spaced numbers between 1-7. Print the results below."
   ]
  },
  {
   "cell_type": "code",
   "execution_count": 10,
   "metadata": {},
   "outputs": [
    {
     "name": "stdout",
     "output_type": "stream",
     "text": [
      "a:  [10 11 12 13 14 15 16 17 18 19]\n",
      "b:  [ 1.          1.66666667  2.33333333  3.          3.66666667  4.33333333\n",
      "  5.          5.66666667  6.33333333  7.        ]\n"
     ]
    }
   ],
   "source": [
    "a = np.arange(10,20)\n",
    "b = np.linspace(1,7,10)\n",
    "\n",
    "print(\"a: \", a)\n",
    "print(\"b: \", b)"
   ]
  },
  {
   "cell_type": "markdown",
   "metadata": {},
   "source": [
    "For `a` and `b` above do the follow and print out the results.\n",
    "\n",
    "1. Square all the elements in both arrays (element-wise).  \n",
    "2. Add both the squared arrays (e.g. [1,2] + [3,4] = [4,6]).  \n",
    "3. Sum the elements with even indices of the added array.  \n",
    "4. Take the square root of the added array (element-wise square root)."
   ]
  },
  {
   "cell_type": "code",
   "execution_count": 11,
   "metadata": {},
   "outputs": [
    {
     "name": "stdout",
     "output_type": "stream",
     "text": [
      "1.  [100 121 144 169 196 225 256 289 324 361] [  1.           2.77777778   5.44444444   9.          13.44444444\n",
      "  18.77777778  25.          32.11111111  40.11111111  49.        ]\n",
      "2.  [ 101.          123.77777778  149.44444444  178.          209.44444444\n",
      "  243.77777778  281.          321.11111111  364.11111111  410.        ]\n",
      "3.  1105.0\n",
      "4.  [ 10.04987562  11.12554618  12.22474721  13.34166406  14.47219556\n",
      "  15.61338457  16.76305461  17.91957341  19.08169571  20.24845673]\n"
     ]
    }
   ],
   "source": [
    "sq_a = np.square(a)\n",
    "sq_b = np.square(b)\n",
    "sum_ab = np.add(sq_a, sq_b)\n",
    "even_total = 0\n",
    "for i in range(len(sum_ab)):\n",
    "    if i%2 == 0:\n",
    "        even_total += sum_ab[i]\n",
    "sqrt_ab = np.sqrt(sum_ab)\n",
    "\n",
    "print(\"1. \", sq_a, sq_b )\n",
    "print(\"2. \", sum_ab)\n",
    "print(\"3. \", even_total)\n",
    "print(\"4. \", sqrt_ab)"
   ]
  },
  {
   "cell_type": "markdown",
   "metadata": {},
   "source": [
    "Append `b` to `a`. Reshape the appended array so that it is a 5x4, 2D-array and store the results in a variable called `m`. Print `m`."
   ]
  },
  {
   "cell_type": "code",
   "execution_count": 12,
   "metadata": {},
   "outputs": [
    {
     "name": "stdout",
     "output_type": "stream",
     "text": [
      "m:  [[ 10.          11.          12.          13.        ]\n",
      " [ 14.          15.          16.          17.        ]\n",
      " [ 18.          19.           1.           1.66666667]\n",
      " [  2.33333333   3.           3.66666667   4.33333333]\n",
      " [  5.           5.66666667   6.33333333   7.        ]]\n"
     ]
    }
   ],
   "source": [
    "m = np.append(a, b).reshape(5,4)\n",
    "\n",
    "print(\"m: \", m)"
   ]
  },
  {
   "cell_type": "markdown",
   "metadata": {},
   "source": [
    "Extract the second and the third column of the matrix `m`. Store the resulting 5x2 matrix in a new variable called `m2`. Print `m2`."
   ]
  },
  {
   "cell_type": "code",
   "execution_count": 13,
   "metadata": {},
   "outputs": [
    {
     "name": "stdout",
     "output_type": "stream",
     "text": [
      "m2:  [[ 11.          12.        ]\n",
      " [ 15.          16.        ]\n",
      " [ 19.           1.        ]\n",
      " [  3.           3.66666667]\n",
      " [  5.66666667   6.33333333]]\n"
     ]
    }
   ],
   "source": [
    "m2 = m[:, 1:3]\n",
    "\n",
    "print(\"m2: \", m2)"
   ]
  },
  {
   "cell_type": "markdown",
   "metadata": {},
   "source": [
    "Take the dot product of `m2` and `m` store the results in a matrix called `m3`. Print `m3`.\n",
    "Note that dot product of two matrices $A\\cdot B = A^T B$"
   ]
  },
  {
   "cell_type": "code",
   "execution_count": 14,
   "metadata": {},
   "outputs": [
    {
     "name": "stdout",
     "output_type": "stream",
     "text": [
      "m3:  [[ 697.33333333  748.11111111  437.88888889  482.33333333]\n",
      " [ 402.22222222  437.88888889  454.55555556  489.88888889]]\n"
     ]
    }
   ],
   "source": [
    "m3 = np.matmul(m2.transpose(), m)\n",
    "\n",
    "print(\"m3: \", m3)"
   ]
  },
  {
   "cell_type": "markdown",
   "metadata": {},
   "source": [
    "Round the `m3` matrix to two decimal points. Store the result in place and print the new `m3`."
   ]
  },
  {
   "cell_type": "code",
   "execution_count": 15,
   "metadata": {},
   "outputs": [
    {
     "name": "stdout",
     "output_type": "stream",
     "text": [
      "m3:  [[ 697.33  748.11  437.89  482.33]\n",
      " [ 402.22  437.89  454.56  489.89]]\n"
     ]
    }
   ],
   "source": [
    "m3 = np.round(m3, 2)\n",
    "\n",
    "print(\"m3: \", m3)"
   ]
  },
  {
   "cell_type": "markdown",
   "metadata": {},
   "source": [
    "Sort the `m3` array so that the highest value is at the top left, the next highest value to the right of the highest, and the lowest value is at the bottom right. Print the sorted `m3` array."
   ]
  },
  {
   "cell_type": "code",
   "execution_count": 16,
   "metadata": {},
   "outputs": [
    {
     "name": "stdout",
     "output_type": "stream",
     "text": [
      "sorted m3:  [[ 437.89  482.33  697.33  748.11]\n",
      " [ 402.22  437.89  454.56  489.89]]\n"
     ]
    }
   ],
   "source": [
    "sorted_m3 = np.sort(m3)\n",
    "\n",
    "print(\"sorted m3: \", sorted_m3)"
   ]
  },
  {
   "cell_type": "markdown",
   "metadata": {},
   "source": [
    "## NumPy and Masks"
   ]
  },
  {
   "cell_type": "markdown",
   "metadata": {},
   "source": [
    "Create an array called `f` where there are 100 equally-spaced values from 0 to pi, inclusive.\n",
    "Take the sin of the array `f` (element-wise) and store that in place. Print `f`."
   ]
  },
  {
   "cell_type": "code",
   "execution_count": 17,
   "metadata": {
    "scrolled": true
   },
   "outputs": [
    {
     "name": "stdout",
     "output_type": "stream",
     "text": [
      "f:  [  0.00000000e+00   3.17279335e-02   6.34239197e-02   9.50560433e-02\n",
      "   1.26592454e-01   1.58001396e-01   1.89251244e-01   2.20310533e-01\n",
      "   2.51147987e-01   2.81732557e-01   3.12033446e-01   3.42020143e-01\n",
      "   3.71662456e-01   4.00930535e-01   4.29794912e-01   4.58226522e-01\n",
      "   4.86196736e-01   5.13677392e-01   5.40640817e-01   5.67059864e-01\n",
      "   5.92907929e-01   6.18158986e-01   6.42787610e-01   6.66769001e-01\n",
      "   6.90079011e-01   7.12694171e-01   7.34591709e-01   7.55749574e-01\n",
      "   7.76146464e-01   7.95761841e-01   8.14575952e-01   8.32569855e-01\n",
      "   8.49725430e-01   8.66025404e-01   8.81453363e-01   8.95993774e-01\n",
      "   9.09631995e-01   9.22354294e-01   9.34147860e-01   9.45000819e-01\n",
      "   9.54902241e-01   9.63842159e-01   9.71811568e-01   9.78802446e-01\n",
      "   9.84807753e-01   9.89821442e-01   9.93838464e-01   9.96854776e-01\n",
      "   9.98867339e-01   9.99874128e-01   9.99874128e-01   9.98867339e-01\n",
      "   9.96854776e-01   9.93838464e-01   9.89821442e-01   9.84807753e-01\n",
      "   9.78802446e-01   9.71811568e-01   9.63842159e-01   9.54902241e-01\n",
      "   9.45000819e-01   9.34147860e-01   9.22354294e-01   9.09631995e-01\n",
      "   8.95993774e-01   8.81453363e-01   8.66025404e-01   8.49725430e-01\n",
      "   8.32569855e-01   8.14575952e-01   7.95761841e-01   7.76146464e-01\n",
      "   7.55749574e-01   7.34591709e-01   7.12694171e-01   6.90079011e-01\n",
      "   6.66769001e-01   6.42787610e-01   6.18158986e-01   5.92907929e-01\n",
      "   5.67059864e-01   5.40640817e-01   5.13677392e-01   4.86196736e-01\n",
      "   4.58226522e-01   4.29794912e-01   4.00930535e-01   3.71662456e-01\n",
      "   3.42020143e-01   3.12033446e-01   2.81732557e-01   2.51147987e-01\n",
      "   2.20310533e-01   1.89251244e-01   1.58001396e-01   1.26592454e-01\n",
      "   9.50560433e-02   6.34239197e-02   3.17279335e-02   1.22464680e-16]\n"
     ]
    }
   ],
   "source": [
    "f = np.linspace(0, math.pi, 100)\n",
    "f = np.sin(f)\n",
    "\n",
    "print(\"f: \", f)"
   ]
  },
  {
   "cell_type": "markdown",
   "metadata": {},
   "source": [
    "Use a 'mask' and print an array that is True when `f` >= 1/2 and False when `f` < 1/2.\n",
    "Print an array sequence that has only those values where `f` >= 1/2."
   ]
  },
  {
   "cell_type": "code",
   "execution_count": 18,
   "metadata": {},
   "outputs": [
    {
     "data": {
      "text/plain": [
       "array([ 0.51367739,  0.54064082,  0.56705986,  0.59290793,  0.61815899,\n",
       "        0.64278761,  0.666769  ,  0.69007901,  0.71269417,  0.73459171,\n",
       "        0.75574957,  0.77614646,  0.79576184,  0.81457595,  0.83256985,\n",
       "        0.84972543,  0.8660254 ,  0.88145336,  0.89599377,  0.909632  ,\n",
       "        0.92235429,  0.93414786,  0.94500082,  0.95490224,  0.96384216,\n",
       "        0.97181157,  0.97880245,  0.98480775,  0.98982144,  0.99383846,\n",
       "        0.99685478,  0.99886734,  0.99987413,  0.99987413,  0.99886734,\n",
       "        0.99685478,  0.99383846,  0.98982144,  0.98480775,  0.97880245,\n",
       "        0.97181157,  0.96384216,  0.95490224,  0.94500082,  0.93414786,\n",
       "        0.92235429,  0.909632  ,  0.89599377,  0.88145336,  0.8660254 ,\n",
       "        0.84972543,  0.83256985,  0.81457595,  0.79576184,  0.77614646,\n",
       "        0.75574957,  0.73459171,  0.71269417,  0.69007901,  0.666769  ,\n",
       "        0.64278761,  0.61815899,  0.59290793,  0.56705986,  0.54064082,\n",
       "        0.51367739])"
      ]
     },
     "execution_count": 18,
     "metadata": {},
     "output_type": "execute_result"
    }
   ],
   "source": [
    "m = [elem >= 0.5 for elem in f]\n",
    "f[m]"
   ]
  },
  {
   "cell_type": "markdown",
   "metadata": {
    "collapsed": true
   },
   "source": [
    "## NumPy and 2 Variable Prediction"
   ]
  },
  {
   "cell_type": "markdown",
   "metadata": {},
   "source": [
    "Let `x` be the number of miles a person drives per day and `y` be the dollars spent on buying car fuel per day.\n",
    "  \n",
    "We have created 2 numpy arrays each of size 100 that represent `x` and `y`.  \n",
    "`x` (number of miles) ranges from 1 to 10 with a uniform noise of (0, 1/2).  \n",
    "`y` (money spent in dollars) will be from 1 to 20 with a uniform noise (0, 1). \n",
    "\n",
    "Run the cell below."
   ]
  },
  {
   "cell_type": "code",
   "execution_count": 19,
   "metadata": {},
   "outputs": [
    {
     "name": "stdout",
     "output_type": "stream",
     "text": [
      "x =  [  1.34683976   1.12176759   1.51512398   1.55233174   1.40619168\n",
      "   1.65075498   1.79399331   1.80243817   1.89844195   2.00100023\n",
      "   2.3344038    2.22424872   2.24914511   2.36268477   2.49808849\n",
      "   2.8212704    2.68452475   2.68229427   3.09511169   2.95703884\n",
      "   3.09047742   3.2544361    3.41541904   3.40886375   3.50672677\n",
      "   3.74960644   3.64861355   3.7721462    3.56368566   4.01092701\n",
      "   4.15630694   4.06088549   4.02517179   4.25169402   4.15897504\n",
      "   4.26835333   4.32520644   4.48563164   4.78490721   4.84614839\n",
      "   4.96698768   5.18754259   5.29582013   5.32097781   5.0674106\n",
      "   5.47601124   5.46852704   5.64537452   5.49642807   5.89755027\n",
      "   5.68548923   5.76276141   5.94613234   6.18135713   5.96522091\n",
      "   6.0275473    6.54290191   6.4991329    6.74003765   6.81809807\n",
      "   6.50611821   6.91538752   7.01250925   6.89905417   7.31314433\n",
      "   7.20472297   7.1043621    7.48199528   7.58957227   7.61744354\n",
      "   7.6991707    7.85436822   8.03510784   7.80787781   8.22410224\n",
      "   7.99366248   8.40581097   8.28913792   8.45971515   8.54227144\n",
      "   8.6906456    8.61856507   8.83489887   8.66309658   8.94837987\n",
      "   9.20890222   8.9614749    8.92608294   9.13231416   9.55889896\n",
      "   9.61488451   9.54252979   9.42015491   9.90952569  10.00659591\n",
      "  10.02504265  10.07330937   9.93489915  10.0892334   10.36509991]\n",
      "y=  [  1.6635012    2.0214592    2.10816052   2.26016496   1.96287558\n",
      "   2.9554635    3.02881887   3.33565296   2.75465779   3.4250107\n",
      "   3.39670148   3.39377767   3.78503343   4.38293049   4.32963586\n",
      "   4.03925039   4.73691868   4.30098399   4.8416329    4.78175957\n",
      "   4.99765787   5.31746817   5.76844671   5.93723749   5.72811642\n",
      "   6.70973615   6.68143367   6.57482731   7.17737603   7.54863252\n",
      "   7.30221419   7.3202573    7.78023884   7.91133365   8.2765417\n",
      "   8.69203281   8.78219865   8.45897546   8.89094715   8.81719921\n",
      "   8.87106971   9.66192562   9.4020625    9.85990783   9.60359778\n",
      "  10.07386266  10.6957995   10.66721916  11.18256285  10.57431836\n",
      "  11.46744716  10.94398916  11.26445259  12.09754828  12.11988037\n",
      "  12.121557    12.17613693  12.43750193  13.00912372  12.86407194\n",
      "  13.24640866  12.76120085  13.11723062  14.07841099  14.19821707\n",
      "  14.27289001  14.30624942  14.63060835  14.2770918   15.0744923\n",
      "  14.45261619  15.11897313  15.2378667   15.27203124  15.32491892\n",
      "  16.01095271  15.71250558  16.29488506  16.70618934  16.56555394\n",
      "  16.42379457  17.18144744  17.13813976  17.69613625  17.37763019\n",
      "  17.90942839  17.90343733  18.01951169  18.35727914  18.16841269\n",
      "  18.61813748  18.66062754  18.81217983  19.44995194  19.7213867\n",
      "  19.71966726  19.78961904  19.64385088  20.69719809  20.07974319]\n"
     ]
    }
   ],
   "source": [
    "# seed the random number generator with a fixed value\n",
    "np.random.seed(500)\n",
    "\n",
    "x=np.linspace(1,10,100)+ np.random.uniform(low=0,high=.5,size=100) \n",
    "y=np.linspace(1,20,100)+ np.random.uniform(low=0,high=1,size=100)\n",
    "print ('x = ',x)\n",
    "print ('y= ',y)"
   ]
  },
  {
   "cell_type": "markdown",
   "metadata": {},
   "source": [
    "Find the expected value of `x` and the expected value of `y`."
   ]
  },
  {
   "cell_type": "code",
   "execution_count": 20,
   "metadata": {},
   "outputs": [
    {
     "name": "stdout",
     "output_type": "stream",
     "text": [
      "expected value of x =  5.78253254159\n",
      "expected value of y =  11.0129816833\n"
     ]
    }
   ],
   "source": [
    "ex_x = np.mean(x)\n",
    "ex_y = np.mean(y)\n",
    "\n",
    "print ('expected value of x = ', ex_x)\n",
    "print ('expected value of y = ', ex_y)"
   ]
  },
  {
   "cell_type": "markdown",
   "metadata": {},
   "source": [
    "Find the variance for `x` and `y`."
   ]
  },
  {
   "cell_type": "code",
   "execution_count": 21,
   "metadata": {},
   "outputs": [
    {
     "name": "stdout",
     "output_type": "stream",
     "text": [
      "Variance of x =  5.78253254159\n",
      "Variance of y =  11.0129816833\n"
     ]
    }
   ],
   "source": [
    "var_x = np.var(x)\n",
    "var_y = np.var(y)\n",
    "\n",
    "print ('Variance of x = ', ex_x)\n",
    "print ('Variance of y = ', ex_y)"
   ]
  },
  {
   "cell_type": "markdown",
   "metadata": {},
   "source": [
    "Find the co-variance of `x` and `y`."
   ]
  },
  {
   "cell_type": "code",
   "execution_count": 22,
   "metadata": {
    "scrolled": true
   },
   "outputs": [
    {
     "name": "stdout",
     "output_type": "stream",
     "text": [
      "Covariance of x and y =  [[  7.10437124  14.65774383]\n",
      " [ 14.65774383  30.41808442]]\n"
     ]
    }
   ],
   "source": [
    "cov_xy = np.cov(x, y)\n",
    "\n",
    "print('Covariance of x and y = ', cov_xy)"
   ]
  },
  {
   "cell_type": "markdown",
   "metadata": {},
   "source": [
    "Assume that the number of dollars spent on car fuel is only linearly dependent on the miles driven.\n",
    "Write code that uses a linear predictor to calculate a predicted value of `y` for each `x`.  \n",
    "\n",
    "i.e. $y_{predicted} = f(x) = mx + b.$"
   ]
  },
  {
   "cell_type": "code",
   "execution_count": 24,
   "metadata": {},
   "outputs": [
    {
     "name": "stdout",
     "output_type": "stream",
     "text": [
      "2.06320071597x + -0.917543596587\n"
     ]
    }
   ],
   "source": [
    "A = np.vstack([x, np.ones(len(x))]).transpose()\n",
    "result = np.linalg.lstsq(A, y)\n",
    "m, b = result[0]\n",
    "\n",
    "y_predicted = str(m) + 'x + ' + str(b)\n",
    "print(y_predicted)"
   ]
  },
  {
   "cell_type": "markdown",
   "metadata": {},
   "source": [
    "Predict `y` for each value in `x`, put the error into an array called $y_{error}$."
   ]
  },
  {
   "cell_type": "code",
   "execution_count": 25,
   "metadata": {},
   "outputs": [
    {
     "name": "stdout",
     "output_type": "stream",
     "text": [
      "[-0.19775597  0.62457111 -0.10030076 -0.02506341 -0.02083649  0.46716823\n",
      "  0.24499418  0.53440482 -0.24466541  0.21408918 -0.50209852 -0.27775029\n",
      "  0.06213923  0.42578118  0.0931215  -0.86405311  0.1157489  -0.31558388\n",
      " -0.62666017 -0.40166149 -0.46107377 -0.47954311 -0.3607047  -0.17838904\n",
      " -0.58942116 -0.10891094  0.07115518 -0.29032384  0.74232081  0.19082863\n",
      " -0.35553767 -0.14062095  0.39304511  0.0567791   0.61328502  0.80310676\n",
      "  0.77597321  0.12176065 -0.06373323 -0.26383402 -0.45927925 -0.12347238\n",
      " -0.60673379 -0.20079382  0.0660562  -0.30670405  0.33067419 -0.062778\n",
      "  0.75987212 -0.67596798  0.65468531 -0.02820071 -0.08606832  0.26171143\n",
      "  0.72997592  0.60306068 -0.40563939 -0.05397013  0.02061681 -0.28548928\n",
      "  0.7405245  -0.58908804 -0.43343988  0.76182107  0.02727604  0.32564401\n",
      "  0.56606805  0.11129392 -0.46417555  0.27572093 -0.5147747  -0.16862142\n",
      " -0.42262995  0.08035574 -0.72551112  0.43596616 -0.71282602  0.11027337\n",
      "  0.16964259 -0.14132301 -0.58920807  0.31716141 -0.17248631  0.73997278\n",
      " -0.16712997 -0.17284167  0.33165948  0.52075457  0.43302563 -0.6359709\n",
      " -0.30175553 -0.10998314  0.29405306 -0.07784496 -0.00668554 -0.04646431\n",
      " -0.07609646  0.06370343  0.79862812 -0.38799477]\n"
     ]
    }
   ],
   "source": [
    "predict = m*x + b\n",
    "y_error = y - predict\n",
    "\n",
    "print(y_error)"
   ]
  },
  {
   "cell_type": "markdown",
   "metadata": {},
   "source": [
    "Write code that calculates the root mean square error (RMSE)."
   ]
  },
  {
   "cell_type": "code",
   "execution_count": 26,
   "metadata": {},
   "outputs": [
    {
     "name": "stdout",
     "output_type": "stream",
     "text": [
      "RSME: 4.17677723669\n"
     ]
    }
   ],
   "source": [
    "rmse = np.sqrt(np.sum(y_error**2))\n",
    "print('RSME:', rmse)"
   ]
  },
  {
   "cell_type": "markdown",
   "metadata": {},
   "source": [
    "## Pandas"
   ]
  },
  {
   "cell_type": "markdown",
   "metadata": {},
   "source": [
    "### Reading a File"
   ]
  },
  {
   "cell_type": "markdown",
   "metadata": {},
   "source": [
    "Read in a CSV file called 'data3.csv' into a dataframe called df.\n",
    "\n",
    "Data description\n",
    "* Data source: http://www.fao.org/nr/water/aquastat/data/query/index.html\n",
    "* Data, units\n",
    "    * GDP, current USD (CPI adjusted)\n",
    "    * NRI, mm/yr\n",
    "    * Population density, inhab/km^2\n",
    "    * Total area of the country, 1000 ha = 10km^2\n",
    "    * Total Population, unit 1000 inhabitants\n",
    "\n",
    "Display the first 10 lines of the dataframe."
   ]
  },
  {
   "cell_type": "code",
   "execution_count": 27,
   "metadata": {},
   "outputs": [
    {
     "data": {
      "text/html": [
       "<div>\n",
       "<style scoped>\n",
       "    .dataframe tbody tr th:only-of-type {\n",
       "        vertical-align: middle;\n",
       "    }\n",
       "\n",
       "    .dataframe tbody tr th {\n",
       "        vertical-align: top;\n",
       "    }\n",
       "\n",
       "    .dataframe thead th {\n",
       "        text-align: right;\n",
       "    }\n",
       "</style>\n",
       "<table border=\"1\" class=\"dataframe\">\n",
       "  <thead>\n",
       "    <tr style=\"text-align: right;\">\n",
       "      <th></th>\n",
       "      <th>Area</th>\n",
       "      <th>Area Id</th>\n",
       "      <th>Variable Name</th>\n",
       "      <th>Variable Id</th>\n",
       "      <th>Year</th>\n",
       "      <th>Value</th>\n",
       "      <th>Symbol</th>\n",
       "      <th>Md</th>\n",
       "    </tr>\n",
       "  </thead>\n",
       "  <tbody>\n",
       "    <tr>\n",
       "      <th>0</th>\n",
       "      <td>Argentina</td>\n",
       "      <td>9.0</td>\n",
       "      <td>Total area of the country</td>\n",
       "      <td>4100.0</td>\n",
       "      <td>1962.0</td>\n",
       "      <td>278040.0</td>\n",
       "      <td>E</td>\n",
       "      <td>NaN</td>\n",
       "    </tr>\n",
       "    <tr>\n",
       "      <th>1</th>\n",
       "      <td>Argentina</td>\n",
       "      <td>9.0</td>\n",
       "      <td>Total area of the country</td>\n",
       "      <td>4100.0</td>\n",
       "      <td>1967.0</td>\n",
       "      <td>278040.0</td>\n",
       "      <td>E</td>\n",
       "      <td>NaN</td>\n",
       "    </tr>\n",
       "    <tr>\n",
       "      <th>2</th>\n",
       "      <td>Argentina</td>\n",
       "      <td>9.0</td>\n",
       "      <td>Total area of the country</td>\n",
       "      <td>4100.0</td>\n",
       "      <td>1972.0</td>\n",
       "      <td>278040.0</td>\n",
       "      <td>E</td>\n",
       "      <td>NaN</td>\n",
       "    </tr>\n",
       "    <tr>\n",
       "      <th>3</th>\n",
       "      <td>Argentina</td>\n",
       "      <td>9.0</td>\n",
       "      <td>Total area of the country</td>\n",
       "      <td>4100.0</td>\n",
       "      <td>1977.0</td>\n",
       "      <td>278040.0</td>\n",
       "      <td>E</td>\n",
       "      <td>NaN</td>\n",
       "    </tr>\n",
       "    <tr>\n",
       "      <th>4</th>\n",
       "      <td>Argentina</td>\n",
       "      <td>9.0</td>\n",
       "      <td>Total area of the country</td>\n",
       "      <td>4100.0</td>\n",
       "      <td>1982.0</td>\n",
       "      <td>278040.0</td>\n",
       "      <td>E</td>\n",
       "      <td>NaN</td>\n",
       "    </tr>\n",
       "    <tr>\n",
       "      <th>5</th>\n",
       "      <td>Argentina</td>\n",
       "      <td>9.0</td>\n",
       "      <td>Total area of the country</td>\n",
       "      <td>4100.0</td>\n",
       "      <td>1987.0</td>\n",
       "      <td>278040.0</td>\n",
       "      <td>E</td>\n",
       "      <td>NaN</td>\n",
       "    </tr>\n",
       "    <tr>\n",
       "      <th>6</th>\n",
       "      <td>Argentina</td>\n",
       "      <td>9.0</td>\n",
       "      <td>Total area of the country</td>\n",
       "      <td>4100.0</td>\n",
       "      <td>1992.0</td>\n",
       "      <td>278040.0</td>\n",
       "      <td>E</td>\n",
       "      <td>NaN</td>\n",
       "    </tr>\n",
       "    <tr>\n",
       "      <th>7</th>\n",
       "      <td>Argentina</td>\n",
       "      <td>9.0</td>\n",
       "      <td>Total area of the country</td>\n",
       "      <td>4100.0</td>\n",
       "      <td>1997.0</td>\n",
       "      <td>278040.0</td>\n",
       "      <td>E</td>\n",
       "      <td>NaN</td>\n",
       "    </tr>\n",
       "    <tr>\n",
       "      <th>8</th>\n",
       "      <td>Argentina</td>\n",
       "      <td>9.0</td>\n",
       "      <td>Total area of the country</td>\n",
       "      <td>4100.0</td>\n",
       "      <td>2002.0</td>\n",
       "      <td>278040.0</td>\n",
       "      <td>E</td>\n",
       "      <td>NaN</td>\n",
       "    </tr>\n",
       "    <tr>\n",
       "      <th>9</th>\n",
       "      <td>Argentina</td>\n",
       "      <td>9.0</td>\n",
       "      <td>Total area of the country</td>\n",
       "      <td>4100.0</td>\n",
       "      <td>2007.0</td>\n",
       "      <td>278040.0</td>\n",
       "      <td>E</td>\n",
       "      <td>NaN</td>\n",
       "    </tr>\n",
       "  </tbody>\n",
       "</table>\n",
       "</div>"
      ],
      "text/plain": [
       "        Area  Area Id              Variable Name  Variable Id    Year  \\\n",
       "0  Argentina      9.0  Total area of the country       4100.0  1962.0   \n",
       "1  Argentina      9.0  Total area of the country       4100.0  1967.0   \n",
       "2  Argentina      9.0  Total area of the country       4100.0  1972.0   \n",
       "3  Argentina      9.0  Total area of the country       4100.0  1977.0   \n",
       "4  Argentina      9.0  Total area of the country       4100.0  1982.0   \n",
       "5  Argentina      9.0  Total area of the country       4100.0  1987.0   \n",
       "6  Argentina      9.0  Total area of the country       4100.0  1992.0   \n",
       "7  Argentina      9.0  Total area of the country       4100.0  1997.0   \n",
       "8  Argentina      9.0  Total area of the country       4100.0  2002.0   \n",
       "9  Argentina      9.0  Total area of the country       4100.0  2007.0   \n",
       "\n",
       "      Value Symbol  Md  \n",
       "0  278040.0      E NaN  \n",
       "1  278040.0      E NaN  \n",
       "2  278040.0      E NaN  \n",
       "3  278040.0      E NaN  \n",
       "4  278040.0      E NaN  \n",
       "5  278040.0      E NaN  \n",
       "6  278040.0      E NaN  \n",
       "7  278040.0      E NaN  \n",
       "8  278040.0      E NaN  \n",
       "9  278040.0      E NaN  "
      ]
     },
     "execution_count": 27,
     "metadata": {},
     "output_type": "execute_result"
    }
   ],
   "source": [
    "df = df = pd.read_csv('data3.csv')\n",
    "df.head(10)"
   ]
  },
  {
   "cell_type": "markdown",
   "metadata": {},
   "source": [
    "Display the column names."
   ]
  },
  {
   "cell_type": "code",
   "execution_count": 28,
   "metadata": {},
   "outputs": [
    {
     "name": "stdout",
     "output_type": "stream",
     "text": [
      "Index(['Area', 'Area Id', 'Variable Name', 'Variable Id', 'Year', 'Value',\n",
      "       'Symbol', 'Md'],\n",
      "      dtype='object')\n"
     ]
    }
   ],
   "source": [
    "print(df.columns)"
   ]
  },
  {
   "cell_type": "markdown",
   "metadata": {},
   "source": [
    "### Data Preprocessing"
   ]
  },
  {
   "cell_type": "markdown",
   "metadata": {},
   "source": [
    "Create a mask of NAN values (i.e. apply `.isnull` on the dataframe). Inspect the mask for 'True' values, they denote NANs.  \n",
    "*Hint: You will notice that the last 8 rows and the last column ('Other') have NAN values. You can also use df.tail() to see the last row.*\n",
    "\n",
    "Remove the bottom 8 rows from the dataframe because they contain NAN values. Also remove the column 'Other'."
   ]
  },
  {
   "cell_type": "code",
   "execution_count": 29,
   "metadata": {},
   "outputs": [],
   "source": [
    "df.isnull().tail()\n",
    "df.drop(['Md'], axis=1)\n",
    "df = df[:-8]"
   ]
  },
  {
   "cell_type": "markdown",
   "metadata": {},
   "source": [
    "All the columns in our dataframe are not required for analysis. Drop these columns: `Area Id`, `Variable Id`, and `Symbol` and save the new dataframe as `df1`.  "
   ]
  },
  {
   "cell_type": "code",
   "execution_count": 47,
   "metadata": {},
   "outputs": [
    {
     "data": {
      "text/html": [
       "<div>\n",
       "<style scoped>\n",
       "    .dataframe tbody tr th:only-of-type {\n",
       "        vertical-align: middle;\n",
       "    }\n",
       "\n",
       "    .dataframe tbody tr th {\n",
       "        vertical-align: top;\n",
       "    }\n",
       "\n",
       "    .dataframe thead th {\n",
       "        text-align: right;\n",
       "    }\n",
       "</style>\n",
       "<table border=\"1\" class=\"dataframe\">\n",
       "  <thead>\n",
       "    <tr style=\"text-align: right;\">\n",
       "      <th></th>\n",
       "      <th>Area</th>\n",
       "      <th>Variable Name</th>\n",
       "      <th>Year</th>\n",
       "      <th>Value</th>\n",
       "    </tr>\n",
       "  </thead>\n",
       "  <tbody>\n",
       "    <tr>\n",
       "      <th>0</th>\n",
       "      <td>Argentina</td>\n",
       "      <td>Total area of the country</td>\n",
       "      <td>1962.0</td>\n",
       "      <td>278040.0</td>\n",
       "    </tr>\n",
       "    <tr>\n",
       "      <th>1</th>\n",
       "      <td>Argentina</td>\n",
       "      <td>Total area of the country</td>\n",
       "      <td>1967.0</td>\n",
       "      <td>278040.0</td>\n",
       "    </tr>\n",
       "    <tr>\n",
       "      <th>2</th>\n",
       "      <td>Argentina</td>\n",
       "      <td>Total area of the country</td>\n",
       "      <td>1972.0</td>\n",
       "      <td>278040.0</td>\n",
       "    </tr>\n",
       "    <tr>\n",
       "      <th>3</th>\n",
       "      <td>Argentina</td>\n",
       "      <td>Total area of the country</td>\n",
       "      <td>1977.0</td>\n",
       "      <td>278040.0</td>\n",
       "    </tr>\n",
       "    <tr>\n",
       "      <th>4</th>\n",
       "      <td>Argentina</td>\n",
       "      <td>Total area of the country</td>\n",
       "      <td>1982.0</td>\n",
       "      <td>278040.0</td>\n",
       "    </tr>\n",
       "  </tbody>\n",
       "</table>\n",
       "</div>"
      ],
      "text/plain": [
       "        Area              Variable Name    Year     Value\n",
       "0  Argentina  Total area of the country  1962.0  278040.0\n",
       "1  Argentina  Total area of the country  1967.0  278040.0\n",
       "2  Argentina  Total area of the country  1972.0  278040.0\n",
       "3  Argentina  Total area of the country  1977.0  278040.0\n",
       "4  Argentina  Total area of the country  1982.0  278040.0"
      ]
     },
     "execution_count": 47,
     "metadata": {},
     "output_type": "execute_result"
    }
   ],
   "source": [
    "df1 = df.drop(['Area Id', 'Variable Id', 'Symbol', 'Md'], axis=1)\n",
    "df1.head()"
   ]
  },
  {
   "cell_type": "markdown",
   "metadata": {},
   "source": [
    "Display all the unique values in your new dataframe for these columns: `Area`, `Variable Name`, and `Year`.  \n",
    "\n",
    "Note the Countries and the Metrics (ie.recorded variables) represented in your dataset.\n",
    "*Hint: Use .unique( ) method.*"
   ]
  },
  {
   "cell_type": "code",
   "execution_count": 31,
   "metadata": {},
   "outputs": [
    {
     "name": "stdout",
     "output_type": "stream",
     "text": [
      "['Argentina' 'Australia' 'Germany' 'Iceland' 'Ireland' 'Sweden'\n",
      " 'United States of America'] \n",
      "\n",
      "['Total area of the country' 'Total population' 'Population density'\n",
      " 'Gross Domestic Product (GDP)' 'National Rainfall Index (NRI)'] \n",
      "\n",
      "[ 1962.  1967.  1972.  1977.  1982.  1987.  1992.  1997.  2002.  2007.\n",
      "  2012.  2014.  2015.  1963.  1970.  1974.  1978.  1984.  1990.  1964.\n",
      "  1981.  1985.  1996.  2001.  1969.  1973.  1979.  1993.  1971.  1975.\n",
      "  1986.  1991.  1998.  2000.  1965.  1983.  1988.  1995.] \n",
      "\n"
     ]
    }
   ],
   "source": [
    "for name in ['Area', 'Variable Name', 'Year']:\n",
    "    print(df1[name].unique(), \"\\n\")"
   ]
  },
  {
   "cell_type": "markdown",
   "metadata": {},
   "source": [
    "Convert the `Year` column string values to pandas datetime objects, where only the year is specified.  \n",
    "*Hint: df1['Year'] = pd.to_datetime(pd.Series(df1['Year']).astype(int),format='%Y').dt.year*\n",
    "\n",
    "Run df1.tail() to see part of the result."
   ]
  },
  {
   "cell_type": "code",
   "execution_count": 32,
   "metadata": {},
   "outputs": [
    {
     "data": {
      "text/html": [
       "<div>\n",
       "<style scoped>\n",
       "    .dataframe tbody tr th:only-of-type {\n",
       "        vertical-align: middle;\n",
       "    }\n",
       "\n",
       "    .dataframe tbody tr th {\n",
       "        vertical-align: top;\n",
       "    }\n",
       "\n",
       "    .dataframe thead th {\n",
       "        text-align: right;\n",
       "    }\n",
       "</style>\n",
       "<table border=\"1\" class=\"dataframe\">\n",
       "  <thead>\n",
       "    <tr style=\"text-align: right;\">\n",
       "      <th></th>\n",
       "      <th>Area</th>\n",
       "      <th>Variable Name</th>\n",
       "      <th>Year</th>\n",
       "      <th>Value</th>\n",
       "    </tr>\n",
       "  </thead>\n",
       "  <tbody>\n",
       "    <tr>\n",
       "      <th>385</th>\n",
       "      <td>United States of America</td>\n",
       "      <td>National Rainfall Index (NRI)</td>\n",
       "      <td>1981</td>\n",
       "      <td>949.2</td>\n",
       "    </tr>\n",
       "    <tr>\n",
       "      <th>386</th>\n",
       "      <td>United States of America</td>\n",
       "      <td>National Rainfall Index (NRI)</td>\n",
       "      <td>1984</td>\n",
       "      <td>974.6</td>\n",
       "    </tr>\n",
       "    <tr>\n",
       "      <th>387</th>\n",
       "      <td>United States of America</td>\n",
       "      <td>National Rainfall Index (NRI)</td>\n",
       "      <td>1992</td>\n",
       "      <td>1020.0</td>\n",
       "    </tr>\n",
       "    <tr>\n",
       "      <th>388</th>\n",
       "      <td>United States of America</td>\n",
       "      <td>National Rainfall Index (NRI)</td>\n",
       "      <td>1996</td>\n",
       "      <td>1005.0</td>\n",
       "    </tr>\n",
       "    <tr>\n",
       "      <th>389</th>\n",
       "      <td>United States of America</td>\n",
       "      <td>National Rainfall Index (NRI)</td>\n",
       "      <td>2002</td>\n",
       "      <td>938.7</td>\n",
       "    </tr>\n",
       "  </tbody>\n",
       "</table>\n",
       "</div>"
      ],
      "text/plain": [
       "                         Area                  Variable Name  Year   Value\n",
       "385  United States of America  National Rainfall Index (NRI)  1981   949.2\n",
       "386  United States of America  National Rainfall Index (NRI)  1984   974.6\n",
       "387  United States of America  National Rainfall Index (NRI)  1992  1020.0\n",
       "388  United States of America  National Rainfall Index (NRI)  1996  1005.0\n",
       "389  United States of America  National Rainfall Index (NRI)  2002   938.7"
      ]
     },
     "execution_count": 32,
     "metadata": {},
     "output_type": "execute_result"
    }
   ],
   "source": [
    "df1['Year'] = pd.to_datetime(pd.Series(df1['Year']).astype(int),format='%Y').dt.year\n",
    "df1.tail()"
   ]
  },
  {
   "cell_type": "markdown",
   "metadata": {},
   "source": [
    "### Extracting Statistics"
   ]
  },
  {
   "cell_type": "markdown",
   "metadata": {},
   "source": [
    "Create a dataframe 'dftemp' to store rows where the `Area` is `Iceland`."
   ]
  },
  {
   "cell_type": "code",
   "execution_count": 33,
   "metadata": {},
   "outputs": [
    {
     "data": {
      "text/html": [
       "<div>\n",
       "<style scoped>\n",
       "    .dataframe tbody tr th:only-of-type {\n",
       "        vertical-align: middle;\n",
       "    }\n",
       "\n",
       "    .dataframe tbody tr th {\n",
       "        vertical-align: top;\n",
       "    }\n",
       "\n",
       "    .dataframe thead th {\n",
       "        text-align: right;\n",
       "    }\n",
       "</style>\n",
       "<table border=\"1\" class=\"dataframe\">\n",
       "  <thead>\n",
       "    <tr style=\"text-align: right;\">\n",
       "      <th></th>\n",
       "      <th>Area</th>\n",
       "      <th>Variable Name</th>\n",
       "      <th>Year</th>\n",
       "      <th>Value</th>\n",
       "    </tr>\n",
       "  </thead>\n",
       "  <tbody>\n",
       "    <tr>\n",
       "      <th>166</th>\n",
       "      <td>Iceland</td>\n",
       "      <td>Total area of the country</td>\n",
       "      <td>1962</td>\n",
       "      <td>10300.0</td>\n",
       "    </tr>\n",
       "    <tr>\n",
       "      <th>167</th>\n",
       "      <td>Iceland</td>\n",
       "      <td>Total area of the country</td>\n",
       "      <td>1967</td>\n",
       "      <td>10300.0</td>\n",
       "    </tr>\n",
       "    <tr>\n",
       "      <th>168</th>\n",
       "      <td>Iceland</td>\n",
       "      <td>Total area of the country</td>\n",
       "      <td>1972</td>\n",
       "      <td>10300.0</td>\n",
       "    </tr>\n",
       "    <tr>\n",
       "      <th>169</th>\n",
       "      <td>Iceland</td>\n",
       "      <td>Total area of the country</td>\n",
       "      <td>1977</td>\n",
       "      <td>10300.0</td>\n",
       "    </tr>\n",
       "    <tr>\n",
       "      <th>170</th>\n",
       "      <td>Iceland</td>\n",
       "      <td>Total area of the country</td>\n",
       "      <td>1982</td>\n",
       "      <td>10300.0</td>\n",
       "    </tr>\n",
       "  </tbody>\n",
       "</table>\n",
       "</div>"
      ],
      "text/plain": [
       "        Area              Variable Name  Year    Value\n",
       "166  Iceland  Total area of the country  1962  10300.0\n",
       "167  Iceland  Total area of the country  1967  10300.0\n",
       "168  Iceland  Total area of the country  1972  10300.0\n",
       "169  Iceland  Total area of the country  1977  10300.0\n",
       "170  Iceland  Total area of the country  1982  10300.0"
      ]
     },
     "execution_count": 33,
     "metadata": {},
     "output_type": "execute_result"
    }
   ],
   "source": [
    "dftemp = df1[df1['Area'] == 'Iceland']\n",
    "dftemp.head()"
   ]
  },
  {
   "cell_type": "markdown",
   "metadata": {},
   "source": [
    "Print the years when the National Rainfall Index (NRI) was `> 950` or `< 900` in Iceland using the dataframe you created in the previous question."
   ]
  },
  {
   "cell_type": "code",
   "execution_count": 34,
   "metadata": {},
   "outputs": [
    {
     "data": {
      "text/html": [
       "<div>\n",
       "<style scoped>\n",
       "    .dataframe tbody tr th:only-of-type {\n",
       "        vertical-align: middle;\n",
       "    }\n",
       "\n",
       "    .dataframe tbody tr th {\n",
       "        vertical-align: top;\n",
       "    }\n",
       "\n",
       "    .dataframe thead th {\n",
       "        text-align: right;\n",
       "    }\n",
       "</style>\n",
       "<table border=\"1\" class=\"dataframe\">\n",
       "  <thead>\n",
       "    <tr style=\"text-align: right;\">\n",
       "      <th></th>\n",
       "      <th>Area</th>\n",
       "      <th>Variable Name</th>\n",
       "      <th>Year</th>\n",
       "      <th>Value</th>\n",
       "    </tr>\n",
       "  </thead>\n",
       "  <tbody>\n",
       "    <tr>\n",
       "      <th>214</th>\n",
       "      <td>Iceland</td>\n",
       "      <td>National Rainfall Index (NRI)</td>\n",
       "      <td>1967</td>\n",
       "      <td>816.0</td>\n",
       "    </tr>\n",
       "    <tr>\n",
       "      <th>215</th>\n",
       "      <td>Iceland</td>\n",
       "      <td>National Rainfall Index (NRI)</td>\n",
       "      <td>1971</td>\n",
       "      <td>963.2</td>\n",
       "    </tr>\n",
       "    <tr>\n",
       "      <th>216</th>\n",
       "      <td>Iceland</td>\n",
       "      <td>National Rainfall Index (NRI)</td>\n",
       "      <td>1975</td>\n",
       "      <td>1010.0</td>\n",
       "    </tr>\n",
       "    <tr>\n",
       "      <th>218</th>\n",
       "      <td>Iceland</td>\n",
       "      <td>National Rainfall Index (NRI)</td>\n",
       "      <td>1986</td>\n",
       "      <td>968.5</td>\n",
       "    </tr>\n",
       "    <tr>\n",
       "      <th>219</th>\n",
       "      <td>Iceland</td>\n",
       "      <td>National Rainfall Index (NRI)</td>\n",
       "      <td>1991</td>\n",
       "      <td>1095.0</td>\n",
       "    </tr>\n",
       "    <tr>\n",
       "      <th>220</th>\n",
       "      <td>Iceland</td>\n",
       "      <td>National Rainfall Index (NRI)</td>\n",
       "      <td>1997</td>\n",
       "      <td>993.2</td>\n",
       "    </tr>\n",
       "  </tbody>\n",
       "</table>\n",
       "</div>"
      ],
      "text/plain": [
       "        Area                  Variable Name  Year   Value\n",
       "214  Iceland  National Rainfall Index (NRI)  1967   816.0\n",
       "215  Iceland  National Rainfall Index (NRI)  1971   963.2\n",
       "216  Iceland  National Rainfall Index (NRI)  1975  1010.0\n",
       "218  Iceland  National Rainfall Index (NRI)  1986   968.5\n",
       "219  Iceland  National Rainfall Index (NRI)  1991  1095.0\n",
       "220  Iceland  National Rainfall Index (NRI)  1997   993.2"
      ]
     },
     "execution_count": 34,
     "metadata": {},
     "output_type": "execute_result"
    }
   ],
   "source": [
    "dftemp[(dftemp['Variable Name'] == 'National Rainfall Index (NRI)') \n",
    "       & ((dftemp['Value'] > 950) | (dftemp['Value'] < 900))]"
   ]
  },
  {
   "cell_type": "markdown",
   "metadata": {},
   "source": [
    "Get all the rows of df1 (from the preprocessed data section of this notebook) where the `Area` is `United States of America` and store that into a new dataframe called `df_usa`. Set the indices of the this dataframe to be the `Year` column.  \n",
    "*Hint: Use .set_index()*"
   ]
  },
  {
   "cell_type": "code",
   "execution_count": 35,
   "metadata": {},
   "outputs": [
    {
     "data": {
      "text/html": [
       "<div>\n",
       "<style scoped>\n",
       "    .dataframe tbody tr th:only-of-type {\n",
       "        vertical-align: middle;\n",
       "    }\n",
       "\n",
       "    .dataframe tbody tr th {\n",
       "        vertical-align: top;\n",
       "    }\n",
       "\n",
       "    .dataframe thead th {\n",
       "        text-align: right;\n",
       "    }\n",
       "</style>\n",
       "<table border=\"1\" class=\"dataframe\">\n",
       "  <thead>\n",
       "    <tr style=\"text-align: right;\">\n",
       "      <th></th>\n",
       "      <th>Area</th>\n",
       "      <th>Variable Name</th>\n",
       "      <th>Value</th>\n",
       "    </tr>\n",
       "    <tr>\n",
       "      <th>Year</th>\n",
       "      <th></th>\n",
       "      <th></th>\n",
       "      <th></th>\n",
       "    </tr>\n",
       "  </thead>\n",
       "  <tbody>\n",
       "    <tr>\n",
       "      <th>1962</th>\n",
       "      <td>United States of America</td>\n",
       "      <td>Total area of the country</td>\n",
       "      <td>962909.0</td>\n",
       "    </tr>\n",
       "    <tr>\n",
       "      <th>1967</th>\n",
       "      <td>United States of America</td>\n",
       "      <td>Total area of the country</td>\n",
       "      <td>962909.0</td>\n",
       "    </tr>\n",
       "    <tr>\n",
       "      <th>1972</th>\n",
       "      <td>United States of America</td>\n",
       "      <td>Total area of the country</td>\n",
       "      <td>962909.0</td>\n",
       "    </tr>\n",
       "    <tr>\n",
       "      <th>1977</th>\n",
       "      <td>United States of America</td>\n",
       "      <td>Total area of the country</td>\n",
       "      <td>962909.0</td>\n",
       "    </tr>\n",
       "    <tr>\n",
       "      <th>1982</th>\n",
       "      <td>United States of America</td>\n",
       "      <td>Total area of the country</td>\n",
       "      <td>962909.0</td>\n",
       "    </tr>\n",
       "  </tbody>\n",
       "</table>\n",
       "</div>"
      ],
      "text/plain": [
       "                          Area              Variable Name     Value\n",
       "Year                                                               \n",
       "1962  United States of America  Total area of the country  962909.0\n",
       "1967  United States of America  Total area of the country  962909.0\n",
       "1972  United States of America  Total area of the country  962909.0\n",
       "1977  United States of America  Total area of the country  962909.0\n",
       "1982  United States of America  Total area of the country  962909.0"
      ]
     },
     "execution_count": 35,
     "metadata": {},
     "output_type": "execute_result"
    }
   ],
   "source": [
    "df_usa = df1[df1['Area'] == 'United States of America'].set_index('Year')\n",
    "df_usa.head()"
   ]
  },
  {
   "cell_type": "markdown",
   "metadata": {},
   "source": [
    "Pivot the dataframe so that the unique `Variable Name` entries become the column entries. The dataframe values should be the ones in the `Value` column. Do this by running the lines of code below."
   ]
  },
  {
   "cell_type": "code",
   "execution_count": 36,
   "metadata": {},
   "outputs": [
    {
     "data": {
      "text/html": [
       "<div>\n",
       "<style scoped>\n",
       "    .dataframe tbody tr th:only-of-type {\n",
       "        vertical-align: middle;\n",
       "    }\n",
       "\n",
       "    .dataframe tbody tr th {\n",
       "        vertical-align: top;\n",
       "    }\n",
       "\n",
       "    .dataframe thead th {\n",
       "        text-align: right;\n",
       "    }\n",
       "</style>\n",
       "<table border=\"1\" class=\"dataframe\">\n",
       "  <thead>\n",
       "    <tr style=\"text-align: right;\">\n",
       "      <th>Variable Name</th>\n",
       "      <th>Gross Domestic Product (GDP)</th>\n",
       "      <th>National Rainfall Index (NRI)</th>\n",
       "      <th>Population density</th>\n",
       "      <th>Total area of the country</th>\n",
       "      <th>Total population</th>\n",
       "    </tr>\n",
       "    <tr>\n",
       "      <th>Year</th>\n",
       "      <th></th>\n",
       "      <th></th>\n",
       "      <th></th>\n",
       "      <th></th>\n",
       "      <th></th>\n",
       "    </tr>\n",
       "  </thead>\n",
       "  <tbody>\n",
       "    <tr>\n",
       "      <th>1962</th>\n",
       "      <td>6.050000e+11</td>\n",
       "      <td>NaN</td>\n",
       "      <td>19.93</td>\n",
       "      <td>962909.0</td>\n",
       "      <td>191861.0</td>\n",
       "    </tr>\n",
       "    <tr>\n",
       "      <th>1965</th>\n",
       "      <td>NaN</td>\n",
       "      <td>928.5</td>\n",
       "      <td>NaN</td>\n",
       "      <td>NaN</td>\n",
       "      <td>NaN</td>\n",
       "    </tr>\n",
       "    <tr>\n",
       "      <th>1967</th>\n",
       "      <td>8.620000e+11</td>\n",
       "      <td>NaN</td>\n",
       "      <td>21.16</td>\n",
       "      <td>962909.0</td>\n",
       "      <td>203713.0</td>\n",
       "    </tr>\n",
       "    <tr>\n",
       "      <th>1969</th>\n",
       "      <td>NaN</td>\n",
       "      <td>952.2</td>\n",
       "      <td>NaN</td>\n",
       "      <td>NaN</td>\n",
       "      <td>NaN</td>\n",
       "    </tr>\n",
       "    <tr>\n",
       "      <th>1972</th>\n",
       "      <td>1.280000e+12</td>\n",
       "      <td>NaN</td>\n",
       "      <td>22.14</td>\n",
       "      <td>962909.0</td>\n",
       "      <td>213220.0</td>\n",
       "    </tr>\n",
       "  </tbody>\n",
       "</table>\n",
       "</div>"
      ],
      "text/plain": [
       "Variable Name  Gross Domestic Product (GDP)  National Rainfall Index (NRI)  \\\n",
       "Year                                                                         \n",
       "1962                           6.050000e+11                            NaN   \n",
       "1965                                    NaN                          928.5   \n",
       "1967                           8.620000e+11                            NaN   \n",
       "1969                                    NaN                          952.2   \n",
       "1972                           1.280000e+12                            NaN   \n",
       "\n",
       "Variable Name  Population density  Total area of the country  Total population  \n",
       "Year                                                                            \n",
       "1962                        19.93                   962909.0          191861.0  \n",
       "1965                          NaN                        NaN               NaN  \n",
       "1967                        21.16                   962909.0          203713.0  \n",
       "1969                          NaN                        NaN               NaN  \n",
       "1972                        22.14                   962909.0          213220.0  "
      ]
     },
     "execution_count": 36,
     "metadata": {},
     "output_type": "execute_result"
    }
   ],
   "source": [
    "df_usa = df_usa.pivot(columns='Variable Name',values='Value')\n",
    "df_usa.head()"
   ]
  },
  {
   "cell_type": "markdown",
   "metadata": {},
   "source": [
    "Rename the corresponding columns to ['GDP','NRI','PD','Area','Population']."
   ]
  },
  {
   "cell_type": "code",
   "execution_count": 37,
   "metadata": {},
   "outputs": [
    {
     "data": {
      "text/html": [
       "<div>\n",
       "<style scoped>\n",
       "    .dataframe tbody tr th:only-of-type {\n",
       "        vertical-align: middle;\n",
       "    }\n",
       "\n",
       "    .dataframe tbody tr th {\n",
       "        vertical-align: top;\n",
       "    }\n",
       "\n",
       "    .dataframe thead th {\n",
       "        text-align: right;\n",
       "    }\n",
       "</style>\n",
       "<table border=\"1\" class=\"dataframe\">\n",
       "  <thead>\n",
       "    <tr style=\"text-align: right;\">\n",
       "      <th></th>\n",
       "      <th>GDP</th>\n",
       "      <th>NRI</th>\n",
       "      <th>PD</th>\n",
       "      <th>Area</th>\n",
       "      <th>Population</th>\n",
       "    </tr>\n",
       "    <tr>\n",
       "      <th>Year</th>\n",
       "      <th></th>\n",
       "      <th></th>\n",
       "      <th></th>\n",
       "      <th></th>\n",
       "      <th></th>\n",
       "    </tr>\n",
       "  </thead>\n",
       "  <tbody>\n",
       "    <tr>\n",
       "      <th>1962</th>\n",
       "      <td>6.050000e+11</td>\n",
       "      <td>NaN</td>\n",
       "      <td>19.93</td>\n",
       "      <td>962909.0</td>\n",
       "      <td>191861.0</td>\n",
       "    </tr>\n",
       "    <tr>\n",
       "      <th>1965</th>\n",
       "      <td>NaN</td>\n",
       "      <td>928.5</td>\n",
       "      <td>NaN</td>\n",
       "      <td>NaN</td>\n",
       "      <td>NaN</td>\n",
       "    </tr>\n",
       "    <tr>\n",
       "      <th>1967</th>\n",
       "      <td>8.620000e+11</td>\n",
       "      <td>NaN</td>\n",
       "      <td>21.16</td>\n",
       "      <td>962909.0</td>\n",
       "      <td>203713.0</td>\n",
       "    </tr>\n",
       "    <tr>\n",
       "      <th>1969</th>\n",
       "      <td>NaN</td>\n",
       "      <td>952.2</td>\n",
       "      <td>NaN</td>\n",
       "      <td>NaN</td>\n",
       "      <td>NaN</td>\n",
       "    </tr>\n",
       "    <tr>\n",
       "      <th>1972</th>\n",
       "      <td>1.280000e+12</td>\n",
       "      <td>NaN</td>\n",
       "      <td>22.14</td>\n",
       "      <td>962909.0</td>\n",
       "      <td>213220.0</td>\n",
       "    </tr>\n",
       "  </tbody>\n",
       "</table>\n",
       "</div>"
      ],
      "text/plain": [
       "               GDP    NRI     PD      Area  Population\n",
       "Year                                                  \n",
       "1962  6.050000e+11    NaN  19.93  962909.0    191861.0\n",
       "1965           NaN  928.5    NaN       NaN         NaN\n",
       "1967  8.620000e+11    NaN  21.16  962909.0    203713.0\n",
       "1969           NaN  952.2    NaN       NaN         NaN\n",
       "1972  1.280000e+12    NaN  22.14  962909.0    213220.0"
      ]
     },
     "execution_count": 37,
     "metadata": {},
     "output_type": "execute_result"
    }
   ],
   "source": [
    "df_usa.columns = ['GDP','NRI','PD','Area','Population']\n",
    "df_usa.head()"
   ]
  },
  {
   "cell_type": "markdown",
   "metadata": {},
   "source": [
    "Print the output of `df_usa.isnull().sum()`. This gives us the number of NAN values in each column. Replace the NAN values by 0, using `df_usa=df_usa.fillna(0)`. Print the output of `df_usa.isnull().sum()` again."
   ]
  },
  {
   "cell_type": "code",
   "execution_count": 38,
   "metadata": {},
   "outputs": [
    {
     "name": "stdout",
     "output_type": "stream",
     "text": [
      "Number of NAN values before:\n",
      " GDP            7\n",
      "NRI           11\n",
      "PD             7\n",
      "Area           7\n",
      "Population     7\n",
      "dtype: int64\n",
      "Number of NAN values after:\n",
      "  GDP           0\n",
      "NRI           0\n",
      "PD            0\n",
      "Area          0\n",
      "Population    0\n",
      "dtype: int64\n"
     ]
    }
   ],
   "source": [
    "print(\"Number of NAN values before:\\n\", df_usa.isnull().sum())\n",
    "\n",
    "df_usa=df_usa.fillna(0)\n",
    "print(\"Number of NAN values after:\\n \", df_usa.isnull().sum())"
   ]
  },
  {
   "cell_type": "markdown",
   "metadata": {},
   "source": [
    "Calculate and print all the column averages and the column standard deviations."
   ]
  },
  {
   "cell_type": "code",
   "execution_count": 39,
   "metadata": {},
   "outputs": [
    {
     "data": {
      "text/html": [
       "<div>\n",
       "<style scoped>\n",
       "    .dataframe tbody tr th:only-of-type {\n",
       "        vertical-align: middle;\n",
       "    }\n",
       "\n",
       "    .dataframe tbody tr th {\n",
       "        vertical-align: top;\n",
       "    }\n",
       "\n",
       "    .dataframe thead th {\n",
       "        text-align: right;\n",
       "    }\n",
       "</style>\n",
       "<table border=\"1\" class=\"dataframe\">\n",
       "  <thead>\n",
       "    <tr style=\"text-align: right;\">\n",
       "      <th></th>\n",
       "      <th>GDP</th>\n",
       "      <th>NRI</th>\n",
       "      <th>PD</th>\n",
       "      <th>Area</th>\n",
       "      <th>Population</th>\n",
       "    </tr>\n",
       "  </thead>\n",
       "  <tbody>\n",
       "    <tr>\n",
       "      <th>count</th>\n",
       "      <td>1.900000e+01</td>\n",
       "      <td>19.000000</td>\n",
       "      <td>19.000000</td>\n",
       "      <td>19.000000</td>\n",
       "      <td>19.000000</td>\n",
       "    </tr>\n",
       "    <tr>\n",
       "      <th>mean</th>\n",
       "      <td>4.620895e+12</td>\n",
       "      <td>409.273684</td>\n",
       "      <td>16.701579</td>\n",
       "      <td>610314.736842</td>\n",
       "      <td>161513.421053</td>\n",
       "    </tr>\n",
       "    <tr>\n",
       "      <th>std</th>\n",
       "      <td>6.088656e+12</td>\n",
       "      <td>493.551503</td>\n",
       "      <td>13.554620</td>\n",
       "      <td>478948.168858</td>\n",
       "      <td>131380.538153</td>\n",
       "    </tr>\n",
       "    <tr>\n",
       "      <th>min</th>\n",
       "      <td>0.000000e+00</td>\n",
       "      <td>0.000000</td>\n",
       "      <td>0.000000</td>\n",
       "      <td>0.000000</td>\n",
       "      <td>0.000000</td>\n",
       "    </tr>\n",
       "    <tr>\n",
       "      <th>25%</th>\n",
       "      <td>0.000000e+00</td>\n",
       "      <td>0.000000</td>\n",
       "      <td>0.000000</td>\n",
       "      <td>0.000000</td>\n",
       "      <td>0.000000</td>\n",
       "    </tr>\n",
       "    <tr>\n",
       "      <th>50%</th>\n",
       "      <td>1.280000e+12</td>\n",
       "      <td>0.000000</td>\n",
       "      <td>22.140000</td>\n",
       "      <td>962909.000000</td>\n",
       "      <td>213220.000000</td>\n",
       "    </tr>\n",
       "    <tr>\n",
       "      <th>75%</th>\n",
       "      <td>7.575000e+12</td>\n",
       "      <td>950.700000</td>\n",
       "      <td>27.560000</td>\n",
       "      <td>962909.000000</td>\n",
       "      <td>265395.500000</td>\n",
       "    </tr>\n",
       "    <tr>\n",
       "      <th>max</th>\n",
       "      <td>1.790000e+13</td>\n",
       "      <td>1020.000000</td>\n",
       "      <td>32.730000</td>\n",
       "      <td>983151.000000</td>\n",
       "      <td>321774.000000</td>\n",
       "    </tr>\n",
       "  </tbody>\n",
       "</table>\n",
       "</div>"
      ],
      "text/plain": [
       "                GDP          NRI         PD           Area     Population\n",
       "count  1.900000e+01    19.000000  19.000000      19.000000      19.000000\n",
       "mean   4.620895e+12   409.273684  16.701579  610314.736842  161513.421053\n",
       "std    6.088656e+12   493.551503  13.554620  478948.168858  131380.538153\n",
       "min    0.000000e+00     0.000000   0.000000       0.000000       0.000000\n",
       "25%    0.000000e+00     0.000000   0.000000       0.000000       0.000000\n",
       "50%    1.280000e+12     0.000000  22.140000  962909.000000  213220.000000\n",
       "75%    7.575000e+12   950.700000  27.560000  962909.000000  265395.500000\n",
       "max    1.790000e+13  1020.000000  32.730000  983151.000000  321774.000000"
      ]
     },
     "execution_count": 39,
     "metadata": {},
     "output_type": "execute_result"
    }
   ],
   "source": [
    "df_usa.describe()"
   ]
  },
  {
   "cell_type": "markdown",
   "metadata": {},
   "source": [
    "Using the `df_usa` dataframe, multiply the `Area` by 10 (so instead of 1000 ha, the unit becomes 100 ha = 1km^2). Store the result in place."
   ]
  },
  {
   "cell_type": "code",
   "execution_count": 40,
   "metadata": {},
   "outputs": [
    {
     "data": {
      "text/html": [
       "<div>\n",
       "<style scoped>\n",
       "    .dataframe tbody tr th:only-of-type {\n",
       "        vertical-align: middle;\n",
       "    }\n",
       "\n",
       "    .dataframe tbody tr th {\n",
       "        vertical-align: top;\n",
       "    }\n",
       "\n",
       "    .dataframe thead th {\n",
       "        text-align: right;\n",
       "    }\n",
       "</style>\n",
       "<table border=\"1\" class=\"dataframe\">\n",
       "  <thead>\n",
       "    <tr style=\"text-align: right;\">\n",
       "      <th></th>\n",
       "      <th>GDP</th>\n",
       "      <th>NRI</th>\n",
       "      <th>PD</th>\n",
       "      <th>Area</th>\n",
       "      <th>Population</th>\n",
       "    </tr>\n",
       "    <tr>\n",
       "      <th>Year</th>\n",
       "      <th></th>\n",
       "      <th></th>\n",
       "      <th></th>\n",
       "      <th></th>\n",
       "      <th></th>\n",
       "    </tr>\n",
       "  </thead>\n",
       "  <tbody>\n",
       "    <tr>\n",
       "      <th>1962</th>\n",
       "      <td>6.050000e+11</td>\n",
       "      <td>0.0</td>\n",
       "      <td>19.93</td>\n",
       "      <td>9629090.0</td>\n",
       "      <td>191861.0</td>\n",
       "    </tr>\n",
       "    <tr>\n",
       "      <th>1965</th>\n",
       "      <td>0.000000e+00</td>\n",
       "      <td>928.5</td>\n",
       "      <td>0.00</td>\n",
       "      <td>0.0</td>\n",
       "      <td>0.0</td>\n",
       "    </tr>\n",
       "    <tr>\n",
       "      <th>1967</th>\n",
       "      <td>8.620000e+11</td>\n",
       "      <td>0.0</td>\n",
       "      <td>21.16</td>\n",
       "      <td>9629090.0</td>\n",
       "      <td>203713.0</td>\n",
       "    </tr>\n",
       "    <tr>\n",
       "      <th>1969</th>\n",
       "      <td>0.000000e+00</td>\n",
       "      <td>952.2</td>\n",
       "      <td>0.00</td>\n",
       "      <td>0.0</td>\n",
       "      <td>0.0</td>\n",
       "    </tr>\n",
       "    <tr>\n",
       "      <th>1972</th>\n",
       "      <td>1.280000e+12</td>\n",
       "      <td>0.0</td>\n",
       "      <td>22.14</td>\n",
       "      <td>9629090.0</td>\n",
       "      <td>213220.0</td>\n",
       "    </tr>\n",
       "  </tbody>\n",
       "</table>\n",
       "</div>"
      ],
      "text/plain": [
       "               GDP    NRI     PD       Area  Population\n",
       "Year                                                   \n",
       "1962  6.050000e+11    0.0  19.93  9629090.0    191861.0\n",
       "1965  0.000000e+00  928.5   0.00        0.0         0.0\n",
       "1967  8.620000e+11    0.0  21.16  9629090.0    203713.0\n",
       "1969  0.000000e+00  952.2   0.00        0.0         0.0\n",
       "1972  1.280000e+12    0.0  22.14  9629090.0    213220.0"
      ]
     },
     "execution_count": 40,
     "metadata": {},
     "output_type": "execute_result"
    }
   ],
   "source": [
    "df_usa['Area'] = df_usa['Area']*10\n",
    "df_usa.head()"
   ]
  },
  {
   "cell_type": "markdown",
   "metadata": {},
   "source": [
    "Create a new column in `df_usa` called `GDP/capita` and populate it with the calculated GDP per capita. Round the results to two decimal points. Store the result in place."
   ]
  },
  {
   "cell_type": "code",
   "execution_count": 41,
   "metadata": {},
   "outputs": [
    {
     "data": {
      "text/html": [
       "<div>\n",
       "<style scoped>\n",
       "    .dataframe tbody tr th:only-of-type {\n",
       "        vertical-align: middle;\n",
       "    }\n",
       "\n",
       "    .dataframe tbody tr th {\n",
       "        vertical-align: top;\n",
       "    }\n",
       "\n",
       "    .dataframe thead th {\n",
       "        text-align: right;\n",
       "    }\n",
       "</style>\n",
       "<table border=\"1\" class=\"dataframe\">\n",
       "  <thead>\n",
       "    <tr style=\"text-align: right;\">\n",
       "      <th></th>\n",
       "      <th>GDP</th>\n",
       "      <th>NRI</th>\n",
       "      <th>PD</th>\n",
       "      <th>Area</th>\n",
       "      <th>Population</th>\n",
       "      <th>GDP/capita</th>\n",
       "    </tr>\n",
       "    <tr>\n",
       "      <th>Year</th>\n",
       "      <th></th>\n",
       "      <th></th>\n",
       "      <th></th>\n",
       "      <th></th>\n",
       "      <th></th>\n",
       "      <th></th>\n",
       "    </tr>\n",
       "  </thead>\n",
       "  <tbody>\n",
       "    <tr>\n",
       "      <th>1962</th>\n",
       "      <td>6.050000e+11</td>\n",
       "      <td>0.0</td>\n",
       "      <td>19.93</td>\n",
       "      <td>9629090.0</td>\n",
       "      <td>191861.0</td>\n",
       "      <td>3153324.54</td>\n",
       "    </tr>\n",
       "    <tr>\n",
       "      <th>1965</th>\n",
       "      <td>0.000000e+00</td>\n",
       "      <td>928.5</td>\n",
       "      <td>0.00</td>\n",
       "      <td>0.0</td>\n",
       "      <td>0.0</td>\n",
       "      <td>NaN</td>\n",
       "    </tr>\n",
       "    <tr>\n",
       "      <th>1967</th>\n",
       "      <td>8.620000e+11</td>\n",
       "      <td>0.0</td>\n",
       "      <td>21.16</td>\n",
       "      <td>9629090.0</td>\n",
       "      <td>203713.0</td>\n",
       "      <td>4231443.26</td>\n",
       "    </tr>\n",
       "    <tr>\n",
       "      <th>1969</th>\n",
       "      <td>0.000000e+00</td>\n",
       "      <td>952.2</td>\n",
       "      <td>0.00</td>\n",
       "      <td>0.0</td>\n",
       "      <td>0.0</td>\n",
       "      <td>NaN</td>\n",
       "    </tr>\n",
       "    <tr>\n",
       "      <th>1972</th>\n",
       "      <td>1.280000e+12</td>\n",
       "      <td>0.0</td>\n",
       "      <td>22.14</td>\n",
       "      <td>9629090.0</td>\n",
       "      <td>213220.0</td>\n",
       "      <td>6003189.19</td>\n",
       "    </tr>\n",
       "  </tbody>\n",
       "</table>\n",
       "</div>"
      ],
      "text/plain": [
       "               GDP    NRI     PD       Area  Population  GDP/capita\n",
       "Year                                                               \n",
       "1962  6.050000e+11    0.0  19.93  9629090.0    191861.0  3153324.54\n",
       "1965  0.000000e+00  928.5   0.00        0.0         0.0         NaN\n",
       "1967  8.620000e+11    0.0  21.16  9629090.0    203713.0  4231443.26\n",
       "1969  0.000000e+00  952.2   0.00        0.0         0.0         NaN\n",
       "1972  1.280000e+12    0.0  22.14  9629090.0    213220.0  6003189.19"
      ]
     },
     "execution_count": 41,
     "metadata": {},
     "output_type": "execute_result"
    }
   ],
   "source": [
    "df_usa['GDP/capita'] = (df_usa['GDP']/df_usa['Population']).round(2)\n",
    "df_usa.head()"
   ]
  },
  {
   "cell_type": "markdown",
   "metadata": {},
   "source": [
    "Create a new column in `df_usa` called `PD2` (i.e. population density 2). Calculate the population density. **Note: the units should be inhab/km^2**. Round the reults to two decimal point. Store the result in place."
   ]
  },
  {
   "cell_type": "code",
   "execution_count": 42,
   "metadata": {},
   "outputs": [
    {
     "data": {
      "text/html": [
       "<div>\n",
       "<style scoped>\n",
       "    .dataframe tbody tr th:only-of-type {\n",
       "        vertical-align: middle;\n",
       "    }\n",
       "\n",
       "    .dataframe tbody tr th {\n",
       "        vertical-align: top;\n",
       "    }\n",
       "\n",
       "    .dataframe thead th {\n",
       "        text-align: right;\n",
       "    }\n",
       "</style>\n",
       "<table border=\"1\" class=\"dataframe\">\n",
       "  <thead>\n",
       "    <tr style=\"text-align: right;\">\n",
       "      <th></th>\n",
       "      <th>GDP</th>\n",
       "      <th>NRI</th>\n",
       "      <th>PD</th>\n",
       "      <th>Area</th>\n",
       "      <th>Population</th>\n",
       "      <th>GDP/capita</th>\n",
       "      <th>PD2</th>\n",
       "    </tr>\n",
       "    <tr>\n",
       "      <th>Year</th>\n",
       "      <th></th>\n",
       "      <th></th>\n",
       "      <th></th>\n",
       "      <th></th>\n",
       "      <th></th>\n",
       "      <th></th>\n",
       "      <th></th>\n",
       "    </tr>\n",
       "  </thead>\n",
       "  <tbody>\n",
       "    <tr>\n",
       "      <th>1962</th>\n",
       "      <td>6.050000e+11</td>\n",
       "      <td>0.0</td>\n",
       "      <td>19.93</td>\n",
       "      <td>9629090.0</td>\n",
       "      <td>191861.0</td>\n",
       "      <td>3153324.54</td>\n",
       "      <td>0.019925</td>\n",
       "    </tr>\n",
       "    <tr>\n",
       "      <th>1965</th>\n",
       "      <td>0.000000e+00</td>\n",
       "      <td>928.5</td>\n",
       "      <td>0.00</td>\n",
       "      <td>0.0</td>\n",
       "      <td>0.0</td>\n",
       "      <td>NaN</td>\n",
       "      <td>NaN</td>\n",
       "    </tr>\n",
       "    <tr>\n",
       "      <th>1967</th>\n",
       "      <td>8.620000e+11</td>\n",
       "      <td>0.0</td>\n",
       "      <td>21.16</td>\n",
       "      <td>9629090.0</td>\n",
       "      <td>203713.0</td>\n",
       "      <td>4231443.26</td>\n",
       "      <td>0.021156</td>\n",
       "    </tr>\n",
       "    <tr>\n",
       "      <th>1969</th>\n",
       "      <td>0.000000e+00</td>\n",
       "      <td>952.2</td>\n",
       "      <td>0.00</td>\n",
       "      <td>0.0</td>\n",
       "      <td>0.0</td>\n",
       "      <td>NaN</td>\n",
       "      <td>NaN</td>\n",
       "    </tr>\n",
       "    <tr>\n",
       "      <th>1972</th>\n",
       "      <td>1.280000e+12</td>\n",
       "      <td>0.0</td>\n",
       "      <td>22.14</td>\n",
       "      <td>9629090.0</td>\n",
       "      <td>213220.0</td>\n",
       "      <td>6003189.19</td>\n",
       "      <td>0.022143</td>\n",
       "    </tr>\n",
       "  </tbody>\n",
       "</table>\n",
       "</div>"
      ],
      "text/plain": [
       "               GDP    NRI     PD       Area  Population  GDP/capita       PD2\n",
       "Year                                                                         \n",
       "1962  6.050000e+11    0.0  19.93  9629090.0    191861.0  3153324.54  0.019925\n",
       "1965  0.000000e+00  928.5   0.00        0.0         0.0         NaN       NaN\n",
       "1967  8.620000e+11    0.0  21.16  9629090.0    203713.0  4231443.26  0.021156\n",
       "1969  0.000000e+00  952.2   0.00        0.0         0.0         NaN       NaN\n",
       "1972  1.280000e+12    0.0  22.14  9629090.0    213220.0  6003189.19  0.022143"
      ]
     },
     "execution_count": 42,
     "metadata": {},
     "output_type": "execute_result"
    }
   ],
   "source": [
    "df_usa['PD2'] = df_usa['Population']/df_usa['Area'].round(2)\n",
    "df_usa.head()"
   ]
  },
  {
   "cell_type": "markdown",
   "metadata": {},
   "source": [
    "Find the maximum value and minimum value of the 'NRI' column in the USA (using pandas methods). What years do the min and max values occur in?"
   ]
  },
  {
   "cell_type": "code",
   "execution_count": 43,
   "metadata": {},
   "outputs": [
    {
     "name": "stdout",
     "output_type": "stream",
     "text": [
      "Year of min NRI: = 1962\n",
      "Year of max MRI: = 1992\n"
     ]
    }
   ],
   "source": [
    "print('Year of min NRI: =', df_usa['NRI'].idxmin())\n",
    "print('Year of max MRI: =', df_usa['NRI'].idxmax())"
   ]
  },
  {
   "cell_type": "markdown",
   "metadata": {},
   "source": [
    "## Matplotlib"
   ]
  },
  {
   "cell_type": "markdown",
   "metadata": {},
   "source": [
    "Create a dataframe called `icecream` that has column `Flavor` with entries `Strawberry`, `Vanilla`, and `Chocolate` and another column with `Price` with entries `3.50`, `3.00`, and `4.25`. "
   ]
  },
  {
   "cell_type": "code",
   "execution_count": 44,
   "metadata": {},
   "outputs": [
    {
     "data": {
      "text/html": [
       "<div>\n",
       "<style scoped>\n",
       "    .dataframe tbody tr th:only-of-type {\n",
       "        vertical-align: middle;\n",
       "    }\n",
       "\n",
       "    .dataframe tbody tr th {\n",
       "        vertical-align: top;\n",
       "    }\n",
       "\n",
       "    .dataframe thead th {\n",
       "        text-align: right;\n",
       "    }\n",
       "</style>\n",
       "<table border=\"1\" class=\"dataframe\">\n",
       "  <thead>\n",
       "    <tr style=\"text-align: right;\">\n",
       "      <th></th>\n",
       "      <th>Flavor</th>\n",
       "      <th>Price</th>\n",
       "    </tr>\n",
       "  </thead>\n",
       "  <tbody>\n",
       "    <tr>\n",
       "      <th>0</th>\n",
       "      <td>Strawberry</td>\n",
       "      <td>3.50</td>\n",
       "    </tr>\n",
       "    <tr>\n",
       "      <th>1</th>\n",
       "      <td>Vanilla</td>\n",
       "      <td>3.00</td>\n",
       "    </tr>\n",
       "    <tr>\n",
       "      <th>2</th>\n",
       "      <td>Chocolate</td>\n",
       "      <td>4.25</td>\n",
       "    </tr>\n",
       "  </tbody>\n",
       "</table>\n",
       "</div>"
      ],
      "text/plain": [
       "       Flavor  Price\n",
       "0  Strawberry   3.50\n",
       "1     Vanilla   3.00\n",
       "2   Chocolate   4.25"
      ]
     },
     "execution_count": 44,
     "metadata": {},
     "output_type": "execute_result"
    }
   ],
   "source": [
    "data = {'Flavor': ['Strawberry', 'Vanilla', 'Chocolate'], 'Price': [3.50, 3.00, 4.25]}\n",
    "icecream = pd.DataFrame(data)\n",
    "icecream"
   ]
  },
  {
   "cell_type": "markdown",
   "metadata": {},
   "source": [
    "Create a bar chart representing the three flavors and their associated prices."
   ]
  },
  {
   "cell_type": "code",
   "execution_count": 45,
   "metadata": {},
   "outputs": [
    {
     "data": {
      "image/png": "[encoded data removed]",
      "text/plain": [
       "<matplotlib.figure.Figure at 0x117434a20>"
      ]
     },
     "metadata": {},
     "output_type": "display_data"
    }
   ],
   "source": [
    "plt.bar(icecream['Flavor'], icecream['Price'])\n",
    "plt.ylabel('Price')\n",
    "plt.title('Price of Ice Cream Flavors')\n",
    " \n",
    "plt.show()"
   ]
  },
  {
   "cell_type": "markdown",
   "metadata": {},
   "source": [
    "Create 9 random plots. The top three should be scatter plots (one with green dots, one with purple crosses, and one with blue triangles. The middle three graphs should be a line graph, a horizontal bar chart, and a histogram. The bottom three graphs should be trignometric functions (one sin, one cosine, one tangent)."
   ]
  },
  {
   "cell_type": "code",
   "execution_count": 46,
   "metadata": {},
   "outputs": [
    {
     "data": {
      "image/png": "[encoded data removed]",
      "text/plain": [
       "<matplotlib.figure.Figure at 0x117509a90>"
      ]
     },
     "metadata": {},
     "output_type": "display_data"
    }
   ],
   "source": [
    "import random\n",
    "\n",
    "data = {'col1': np.arange(0, 50), 'col2': np.random.normal(10, .41, 50), 'col3': np.random.beta(2, 3, 50), }\n",
    "plot_data = pd.DataFrame(data)\n",
    "bar_data = pd.DataFrame({'Names': ['one', 'two', 'three'], 'Values' : [5, 10, 4]})\n",
    "\n",
    "def hide_labels():\n",
    "    return plt.xticks([]), plt.yticks([])\n",
    "\n",
    "#row 1\n",
    "plt.subplot(331)\n",
    "plt.scatter(data['col1'], data['col2'], color='green', ); hide_labels()\n",
    "plt.subplot(332)\n",
    "plt.scatter(data['col1'], data['col3'], color='purple', marker='x'); hide_labels()\n",
    "plt.subplot(333)\n",
    "plt.scatter(data['col2'], data['col3'], color='blue', marker='^'); hide_labels()\n",
    "\n",
    "#row 2\n",
    "plt.subplot(334)\n",
    "plt.plot(data['col1'], data['col2']); hide_labels()\n",
    "plt.subplot(335)\n",
    "plt.barh(np.arange(0,10), random.sample(range(100), 10)); hide_labels()\n",
    "plt.subplot(336)\n",
    "plt.hist(data['col2']); hide_labels()\n",
    "\n",
    "#row3\n",
    "plt.subplot(337)\n",
    "plt.plot(data['col1'], np.sin(data['col1'])); hide_labels()\n",
    "plt.subplot(338)\n",
    "plt.plot(data['col1'], np.cos(data['col1'])); hide_labels()\n",
    "plt.subplot(339)\n",
    "plt.plot(data['col1'], np.tan(data['col1'])); hide_labels()\n",
    "\n",
    "plt.show()"
   ]
  },
  {
   "cell_type": "markdown",
   "metadata": {
    "collapsed": true
   },
   "source": [
    "## Extra Credit"
   ]
  },
  {
   "cell_type": "markdown",
   "metadata": {},
   "source": [
    "Run the cell below to read in the data. See: https://www.quantshare.com/sa-43-10-ways-to-download-historical-stock-quotes-data-for-free"
   ]
  },
  {
   "cell_type": "code",
   "execution_count": null,
   "metadata": {},
   "outputs": [],
   "source": [
    "df_google = pd.read_csv('https://finance.google.com/finance/historical?output=csv&q=goog')\n",
    "df_apple = pd.read_csv('https://finance.google.com/finance/historical?output=csv&q=aapl')\n",
    "\n",
    "df_disney = pd.read_csv('https://finance.google.com/finance/historical?output=csv&q=dis')\n",
    "df_nike= pd.read_csv('https://finance.google.com/finance/historical?output=csv&q=nke')\n",
    "\n",
    "df_apple.head()"
   ]
  },
  {
   "cell_type": "markdown",
   "metadata": {},
   "source": [
    "Show a 3 x 3 correlation matrix for Nike, Apple, and Disney stock prices for the month of July, 2017.  \n",
    "\n",
    "Hint: Convert `Date` to a pandas datetime object. \n",
    "Change the indices of all the dataframes to `Date`. Use `Date` indices to filter rows.\n",
    "Create a new dataframe that stores values of the `Close` column from each dataframe.\n",
    "Use the `Close` column of each company's stock data to find the correlation using df.corr()."
   ]
  },
  {
   "cell_type": "code",
   "execution_count": null,
   "metadata": {
    "collapsed": true
   },
   "outputs": [],
   "source": []
  },
  {
   "cell_type": "markdown",
   "metadata": {},
   "source": [
    "Show the same correlation matrix but over different time periods.\n",
    "1. the last 20 days  \n",
    "2. the last 80 days"
   ]
  },
  {
   "cell_type": "code",
   "execution_count": null,
   "metadata": {
    "collapsed": true
   },
   "outputs": [],
   "source": []
  },
  {
   "cell_type": "markdown",
   "metadata": {},
   "source": [
    "Change the code so that it accepts a list of any stock symbols (i.e. ['NKE', 'APPL', 'DIS', ... ]) and creates a correlation matrix for the past 100 days."
   ]
  },
  {
   "cell_type": "code",
   "execution_count": null,
   "metadata": {
    "collapsed": true
   },
   "outputs": [],
   "source": []
  }
 ],
 "metadata": {
  "anaconda-cloud": {},
  "kernelspec": {
   "display_name": "Python 3",
   "language": "python",
   "name": "python3"
  },
  "language_info": {
   "codemirror_mode": {
    "name": "ipython",
    "version": 3
   },
   "file_extension": ".py",
   "mimetype": "text/x-python",
   "name": "python",
   "nbconvert_exporter": "python",
   "pygments_lexer": "ipython3",
   "version": "3.6.3"
  }
 },
 "nbformat": 4,
 "nbformat_minor": 1
}
